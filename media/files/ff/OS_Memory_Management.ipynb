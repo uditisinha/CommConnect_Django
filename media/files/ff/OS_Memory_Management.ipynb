{
  "nbformat": 4,
  "nbformat_minor": 0,
  "metadata": {
    "colab": {
      "provenance": []
    },
    "kernelspec": {
      "name": "python3",
      "display_name": "Python 3"
    },
    "language_info": {
      "name": "python"
    }
  },
  "cells": [
    {
      "cell_type": "code",
      "execution_count": null,
      "metadata": {
        "id": "VK2wCfXemxhJ",
        "colab": {
          "base_uri": "https://localhost:8080/"
        },
        "outputId": "0f8d9da5-c35a-4f8f-991f-b8f375c8d932"
      },
      "outputs": [
        {
          "output_type": "stream",
          "name": "stdout",
          "text": [
            "Next Fit Memory Allocation Algorithm: \n",
            "╒══════════════╤════════════════╤══════════════╕\n",
            "│   Process No │   Process Size │   Allocation │\n",
            "╞══════════════╪════════════════╪══════════════╡\n",
            "│            1 │             50 │            1 │\n",
            "├──────────────┼────────────────┼──────────────┤\n",
            "│            2 │            250 │            3 │\n",
            "├──────────────┼────────────────┼──────────────┤\n",
            "│            3 │            150 │            4 │\n",
            "├──────────────┼────────────────┼──────────────┤\n",
            "│            4 │            200 │            4 │\n",
            "╘══════════════╧════════════════╧══════════════╛\n"
          ]
        }
      ],
      "source": [
        "from tabulate import tabulate\n",
        "\n",
        "def next_fit(block_size, process_size):\n",
        "    # Block allocations for process\n",
        "    allocation = [-1] * len(process_size)\n",
        "    # Pointer to keep track of where the last allocation was made\n",
        "    j = 0\n",
        "\n",
        "    # Iterate over each process\n",
        "    for i in range(len(process_size)):\n",
        "        count = 0\n",
        "        # Iterate through the available blocks\n",
        "        while count < len(block_size):\n",
        "            # Check if the block can accommodate the process\n",
        "            if block_size[j] >= process_size[i]:\n",
        "                # Allocate block j to process i\n",
        "                allocation[i] = j\n",
        "                # Reduce available memory in this block\n",
        "                block_size[j] -= process_size[i]\n",
        "                break\n",
        "\n",
        "            # Move to the next block (circular)\n",
        "            j = (j + 1) % len(block_size)\n",
        "            count += 1\n",
        "\n",
        "    table = []\n",
        "    for i in range(len(process_size)):\n",
        "        if allocation[i] != -1:\n",
        "            table.append([i + 1, process_size[i], allocation[i] + 1])\n",
        "        else:\n",
        "            table.append([i + 1, process_size[i], \"Cannot be allocated\"])\n",
        "\n",
        "    headers = [\"Process No\", \"Process Size\", \"Allocation\"]\n",
        "    print(\"Next Fit Memory Allocation Algorithm: \")\n",
        "    print(tabulate(table, headers, tablefmt=\"fancy_grid\"))\n",
        "\n",
        "if __name__ == \"__main__\":\n",
        "    block_size = [100, 200, 300, 400]\n",
        "    process_size = [50, 250, 150, 200]\n",
        "\n",
        "    next_fit(block_size, process_size)\n"
      ]
    },
    {
      "cell_type": "code",
      "source": [
        "from tabulate import tabulate\n",
        "\n",
        "def worst_fit(block_size, process_size):\n",
        "    # Block allocations for processes\n",
        "    allocation = [-1] * len(process_size)\n",
        "\n",
        "    # Iterate over each process\n",
        "    for i in range(len(process_size)):\n",
        "        worst_fit_index = -1\n",
        "        # Find the block with the worst (largest) fit\n",
        "        for j in range(len(block_size)):\n",
        "            if block_size[j] >= process_size[i]:\n",
        "                if worst_fit_index == -1 or block_size[j] > block_size[worst_fit_index]:\n",
        "                    worst_fit_index = j\n",
        "\n",
        "        if worst_fit_index != -1:\n",
        "            # Allocate the worst-fit block to the process\n",
        "            allocation[i] = worst_fit_index\n",
        "            # Reduce available memory in this block\n",
        "            block_size[worst_fit_index] -= process_size[i]\n",
        "\n",
        "    table = []\n",
        "    for i in range(len(process_size)):\n",
        "        if allocation[i] != -1:\n",
        "            table.append([i + 1, process_size[i], allocation[i] + 1])\n",
        "        else:\n",
        "            table.append([i + 1, process_size[i], \"Cannot be allocated\"])\n",
        "\n",
        "    headers = [\"Process No\", \"Process Size\", \"Allocation\"]\n",
        "    print(\"Worst Fit Memory Allocation Algorithm\")\n",
        "    print(tabulate(table, headers, tablefmt=\"fancy_grid\"))\n",
        "\n",
        "if __name__ == \"__main__\":\n",
        "    block_size = [100, 200, 300, 400]\n",
        "    process_size = [50, 250, 150, 200]\n",
        "\n",
        "    worst_fit(block_size, process_size)\n"
      ],
      "metadata": {
        "colab": {
          "base_uri": "https://localhost:8080/"
        },
        "id": "dicvVRN1WItJ",
        "outputId": "3cb2c064-62fc-4c1a-80c1-b1df0f7abcb1"
      },
      "execution_count": null,
      "outputs": [
        {
          "output_type": "stream",
          "name": "stdout",
          "text": [
            "Worst Fit Memory Allocation Algorithm\n",
            "╒══════════════╤════════════════╤══════════════╕\n",
            "│   Process No │   Process Size │   Allocation │\n",
            "╞══════════════╪════════════════╪══════════════╡\n",
            "│            1 │             50 │            4 │\n",
            "├──────────────┼────────────────┼──────────────┤\n",
            "│            2 │            250 │            4 │\n",
            "├──────────────┼────────────────┼──────────────┤\n",
            "│            3 │            150 │            3 │\n",
            "├──────────────┼────────────────┼──────────────┤\n",
            "│            4 │            200 │            2 │\n",
            "╘══════════════╧════════════════╧══════════════╛\n"
          ]
        }
      ]
    }
  ]
}